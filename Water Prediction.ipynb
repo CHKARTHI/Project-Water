# -*- coding: utf-8 -*-
"""
Created on Wed Jan 25 12:25:48 2023

@author: DELL
"""
#ignoring all warnings
import warnings
warnings.filterwarnings('ignore')

import numpy as np
import pandas as pd
import matplotlib.pyplot as plt 
%matplotlib inline
import seaborn as sns
sns.set_style('darkgrid')
from IPython.display import display, HTML

from scipy import stats
from statsmodels.graphics.gofplots import qqplot
from statsmodels.stats.weightstats import ztest
from scipy import interp

from collections import Counter
from sklearn.preprocessing import MinMaxScaler
from sklearn.model_selection import train_test_split
from sklearn.feature_selection import SelectFromModel
#pip install Boruta
from boruta import BorutaPy
from sklearn.metrics import accuracy_score
from sklearn.metrics import confusion_matrix, classification_report
from sklearn.model_selection import StratifiedKFold,cross_val_score
from sklearn.model_selection import GridSearchCV

from sklearn.linear_model import LogisticRegression
from sklearn.linear_model import RidgeClassifier
from sklearn.neighbors import KNeighborsClassifier  
from sklearn.tree import DecisionTreeClassifier as DT 
from sklearn.ensemble import RandomForestClassifier as RF 
from sklearn.ensemble import ExtraTreesClassifier as ET
from sklearn.ensemble import AdaBoostClassifier as AB
from xgboost import XGBClassifier 
from sklearn.naive_bayes import GaussianNB as GNB  
from sklearn.svm import SVC 
from sklearn.ensemble import VotingClassifier 
from sklearn.ensemble import StackingClassifier

#importing the dataset
wq_df = pd.read_csv('C:/Users/DELL/Desktop/Projects/water_potability.csv')
wq_df.head()

#Understanding Dataset Features

wq_df.info()
wq_df.describe()
wq_df.columns = wq_df.columns.str.lower()
wq_df.columns
wq_df.isnull().sum()
# wq_df = wq_df.dropna();
wq_df['ph'] = wq_df['ph'].fillna(wq_df['ph'].median())
wq_df['sulfate'] = wq_df['sulfate'].fillna(wq_df['sulfate'].median())
wq_df['trihalomethanes'] = wq_df['trihalomethanes'].fillna(wq_df['trihalomethanes'].median())
wq_df['ph_category'] = wq_df['ph'].apply(lambda value: 'acidic level' if value < 6.5 else 'alkaline level' if value > 8.5 else 'normal pH_surface water')
wq_df['ph_category'] = pd.Categorical(wq_df['ph_category'], 
                                      categories=['acidic level', 'alkaline level', 'normal pH_surface water'])
wq_df.sample(5)
wq_df.shape











